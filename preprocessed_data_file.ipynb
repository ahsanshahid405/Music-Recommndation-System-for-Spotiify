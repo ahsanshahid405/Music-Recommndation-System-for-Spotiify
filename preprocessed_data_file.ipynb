{
 "cells": [
  {
   "cell_type": "code",
   "execution_count": 126,
   "metadata": {},
   "outputs": [],
   "source": [
    "import os\n",
    "import pandas as pd\n",
    "import numpy as np\n",
    "from sklearn.preprocessing import StandardScaler\n",
    "from pymongo import MongoClient\n",
    "import re"
   ]
  },
  {
   "cell_type": "code",
   "execution_count": 167,
   "metadata": {},
   "outputs": [],
   "source": [
    "\n",
    "def load_dataset(directory):\n",
    "    metadata_path = os.path.join(directory, 'tracks.csv')\n",
    "    metadata = pd.read_csv(metadata_path)  # Load metadata from CSV\n",
    "    \n",
    "    # Keep the unnamed first column and the specified columns\n",
    "    columns_to_keep = metadata.columns.tolist()[:1] + ['album.10', 'artist.12', 'track.7', 'track.19']\n",
    "    metadata = metadata[columns_to_keep]\n",
    "    \n",
    "    # Rename the unnamed column to \"Track ID\"\n",
    "    metadata.rename(columns={metadata.columns[0]: 'Track ID'}, inplace=True)\n",
    "    \n",
    "    # Remove empty rows from the \"Track ID\" column\n",
    "    metadata.dropna(subset=['Track ID'], inplace=True)\n",
    "    \n",
    "    # Pad the Track IDs to 6 digits with leading zeros\n",
    "    metadata['Track ID'] = metadata['Track ID'].fillna('').astype(str).apply(lambda x: x.zfill(6))\n",
    "    \n",
    "    # Rename other columns for clarity\n",
    "    metadata.rename(columns={'album.10': 'Album', 'artist.12': 'Artist', 'track.7': 'Genre', 'track.19': 'Title'}, inplace=True)\n",
    "    \n",
    "    # Drop rows with null values in the specified columns\n",
    "    metadata.dropna(subset=['Album', 'Artist', 'Genre', 'Title'], inplace=True)\n",
    "    \n",
    "    # Apply transformations\n",
    "    metadata['Album'] = metadata['Album'].apply(lambda x: re.sub(r'[^\\w\\s]', '', x.lower()))\n",
    "    metadata['Artist'] = metadata['Artist'].apply(lambda x: re.sub(r'[^\\w\\s]', '', x.lower()))\n",
    "    metadata['Genre'] = metadata['Genre'].apply(lambda x: re.sub(r'[^\\w\\s]', '', x.lower()))\n",
    "    metadata['Title'] = metadata['Title'].apply(lambda x: re.sub(r'[^\\w\\s]', '', x.lower()))\n",
    "\n",
    "    return metadata\n"
   ]
  },
  {
   "cell_type": "code",
   "execution_count": 168,
   "metadata": {},
   "outputs": [
    {
     "name": "stderr",
     "output_type": "stream",
     "text": [
      "/tmp/ipykernel_6049/2557937372.py:5: DtypeWarning: Columns (0,1,5,6,8,12,18,20,21,22,24,33,34,38,39,44,47,49) have mixed types.Specify dtype option on import or set low_memory=False.\n",
      "  combined_data = load_dataset(dataset_directory)\n"
     ]
    }
   ],
   "source": [
    "# Define the directory where the dataset is located\n",
    "dataset_directory = '/home/cake/Documents/sample_data'\n",
    "\n",
    "# Load the dataset and get combined data\n",
    "combined_data = load_dataset(dataset_directory)\n"
   ]
  },
  {
   "cell_type": "code",
   "execution_count": 169,
   "metadata": {},
   "outputs": [
    {
     "data": {
      "text/html": [
       "<div>\n",
       "<style scoped>\n",
       "    .dataframe tbody tr th:only-of-type {\n",
       "        vertical-align: middle;\n",
       "    }\n",
       "\n",
       "    .dataframe tbody tr th {\n",
       "        vertical-align: top;\n",
       "    }\n",
       "\n",
       "    .dataframe thead th {\n",
       "        text-align: right;\n",
       "    }\n",
       "</style>\n",
       "<table border=\"1\" class=\"dataframe\">\n",
       "  <thead>\n",
       "    <tr style=\"text-align: right;\">\n",
       "      <th></th>\n",
       "      <th>Track ID</th>\n",
       "      <th>Album</th>\n",
       "      <th>Artist</th>\n",
       "      <th>Genre</th>\n",
       "      <th>Title</th>\n",
       "    </tr>\n",
       "  </thead>\n",
       "  <tbody>\n",
       "    <tr>\n",
       "      <th>2</th>\n",
       "      <td>000002</td>\n",
       "      <td>awol  a way of life</td>\n",
       "      <td>awol</td>\n",
       "      <td>hiphop</td>\n",
       "      <td>food</td>\n",
       "    </tr>\n",
       "    <tr>\n",
       "      <th>3</th>\n",
       "      <td>000003</td>\n",
       "      <td>awol  a way of life</td>\n",
       "      <td>awol</td>\n",
       "      <td>hiphop</td>\n",
       "      <td>electric ave</td>\n",
       "    </tr>\n",
       "    <tr>\n",
       "      <th>4</th>\n",
       "      <td>000005</td>\n",
       "      <td>awol  a way of life</td>\n",
       "      <td>awol</td>\n",
       "      <td>hiphop</td>\n",
       "      <td>this world</td>\n",
       "    </tr>\n",
       "    <tr>\n",
       "      <th>5</th>\n",
       "      <td>000010</td>\n",
       "      <td>constant hitmaker</td>\n",
       "      <td>kurt vile</td>\n",
       "      <td>pop</td>\n",
       "      <td>freeway</td>\n",
       "    </tr>\n",
       "    <tr>\n",
       "      <th>11</th>\n",
       "      <td>000134</td>\n",
       "      <td>awol  a way of life</td>\n",
       "      <td>awol</td>\n",
       "      <td>hiphop</td>\n",
       "      <td>street music</td>\n",
       "    </tr>\n",
       "    <tr>\n",
       "      <th>12</th>\n",
       "      <td>000135</td>\n",
       "      <td>mp3</td>\n",
       "      <td>abominog</td>\n",
       "      <td>rock</td>\n",
       "      <td>fathers day</td>\n",
       "    </tr>\n",
       "    <tr>\n",
       "      <th>13</th>\n",
       "      <td>000136</td>\n",
       "      <td>mp3</td>\n",
       "      <td>abominog</td>\n",
       "      <td>rock</td>\n",
       "      <td>peel back the mountain sky</td>\n",
       "    </tr>\n",
       "    <tr>\n",
       "      <th>14</th>\n",
       "      <td>000137</td>\n",
       "      <td>live at lace</td>\n",
       "      <td>airway</td>\n",
       "      <td>experimental</td>\n",
       "      <td>side a</td>\n",
       "    </tr>\n",
       "    <tr>\n",
       "      <th>15</th>\n",
       "      <td>000138</td>\n",
       "      <td>live at lace</td>\n",
       "      <td>airway</td>\n",
       "      <td>experimental</td>\n",
       "      <td>side b</td>\n",
       "    </tr>\n",
       "    <tr>\n",
       "      <th>16</th>\n",
       "      <td>000139</td>\n",
       "      <td>every man for himself</td>\n",
       "      <td>alec k redfearn  the eyesores</td>\n",
       "      <td>folk</td>\n",
       "      <td>candyass</td>\n",
       "    </tr>\n",
       "  </tbody>\n",
       "</table>\n",
       "</div>"
      ],
      "text/plain": [
       "   Track ID                  Album                         Artist  \\\n",
       "2    000002    awol  a way of life                           awol   \n",
       "3    000003    awol  a way of life                           awol   \n",
       "4    000005    awol  a way of life                           awol   \n",
       "5    000010      constant hitmaker                      kurt vile   \n",
       "11   000134    awol  a way of life                           awol   \n",
       "12   000135                    mp3                       abominog   \n",
       "13   000136                    mp3                       abominog   \n",
       "14   000137           live at lace                         airway   \n",
       "15   000138           live at lace                         airway   \n",
       "16   000139  every man for himself  alec k redfearn  the eyesores   \n",
       "\n",
       "           Genre                       Title  \n",
       "2         hiphop                        food  \n",
       "3         hiphop                electric ave  \n",
       "4         hiphop                  this world  \n",
       "5            pop                     freeway  \n",
       "11        hiphop                street music  \n",
       "12          rock                 fathers day  \n",
       "13          rock  peel back the mountain sky  \n",
       "14  experimental                      side a  \n",
       "15  experimental                      side b  \n",
       "16          folk                    candyass  "
      ]
     },
     "execution_count": 169,
     "metadata": {},
     "output_type": "execute_result"
    }
   ],
   "source": [
    "combined_data.head(10)"
   ]
  },
  {
   "cell_type": "code",
   "execution_count": 171,
   "metadata": {},
   "outputs": [],
   "source": [
    "#combined_data.to_csv('/home/cake/Documents/cleaned_dataset.csv', index=False)"
   ]
  },
  {
   "cell_type": "code",
   "execution_count": 174,
   "metadata": {},
   "outputs": [
    {
     "name": "stdout",
     "output_type": "stream",
     "text": [
      "<class 'pandas.core.frame.DataFrame'>\n",
      "RangeIndex: 49288 entries, 0 to 49287\n",
      "Data columns (total 5 columns):\n",
      " #   Column    Non-Null Count  Dtype \n",
      "---  ------    --------------  ----- \n",
      " 0   Track ID  49288 non-null  int64 \n",
      " 1   Album     49285 non-null  object\n",
      " 2   Artist    49272 non-null  object\n",
      " 3   Genre     49288 non-null  object\n",
      " 4   Title     49263 non-null  object\n",
      "dtypes: int64(1), object(4)\n",
      "memory usage: 1.9+ MB\n"
     ]
    }
   ],
   "source": [
    "#df=pd.read_csv(\"/home/cake/Documents/cleaned_dataset.csv\")\n",
    "#df.head()\n",
    "#df.info()"
   ]
  },
  {
   "cell_type": "code",
   "execution_count": null,
   "metadata": {},
   "outputs": [],
   "source": []
  },
  {
   "cell_type": "code",
   "execution_count": null,
   "metadata": {},
   "outputs": [],
   "source": []
  }
 ],
 "metadata": {
  "kernelspec": {
   "display_name": "Python 3",
   "language": "python",
   "name": "python3"
  },
  "language_info": {
   "codemirror_mode": {
    "name": "ipython",
    "version": 3
   },
   "file_extension": ".py",
   "mimetype": "text/x-python",
   "name": "python",
   "nbconvert_exporter": "python",
   "pygments_lexer": "ipython3",
   "version": "3.10.12"
  }
 },
 "nbformat": 4,
 "nbformat_minor": 2
}
