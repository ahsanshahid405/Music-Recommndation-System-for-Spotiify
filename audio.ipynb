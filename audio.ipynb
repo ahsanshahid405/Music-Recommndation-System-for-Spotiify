{
 "cells": [
  {
   "cell_type": "code",
   "execution_count": 3,
   "metadata": {},
   "outputs": [],
   "source": [
    "import os\n",
    "import librosa\n",
    "\n",
    "def read_audio_files(directory):\n",
    "    audio_data = []\n",
    "    for root, dirs, files in os.walk(directory):\n",
    "        for file in files:\n",
    "            if file.endswith('.mp3'):\n",
    "                audio_path = os.path.join(root, file)\n",
    "                # Load audio file\n",
    "                y, sr = librosa.load(audio_path, sr=None)\n",
    "                audio_data.append((audio_path, y, sr))\n",
    "    return audio_data\n",
    "\n",
    "# Example usage\n",
    "audio_directory = '/home/cake/Documents/sample_data'\n",
    "audio_data = read_audio_files(audio_directory)\n"
   ]
  },
  {
   "cell_type": "code",
   "execution_count": 4,
   "metadata": {},
   "outputs": [
    {
     "name": "stdout",
     "output_type": "stream",
     "text": [
      "Number of audio files processed: 145\n",
      "Shape of extracted features for each audio file: (15,)\n"
     ]
    }
   ],
   "source": [
    "import numpy as np\n",
    "import librosa\n",
    "\n",
    "def extract_features(audio_data):\n",
    "    features = []\n",
    "    for audio_path, y, sr in audio_data:\n",
    "        # Extract MFCC\n",
    "        mfcc = librosa.feature.mfcc(y=y, sr=sr, n_mfcc=13)\n",
    "        \n",
    "        # Calculate spectral centroid\n",
    "        spectral_centroid = librosa.feature.spectral_centroid(y=y, sr=sr)\n",
    "        if len(spectral_centroid) == 0:\n",
    "            spectral_centroid_mean = 0\n",
    "        else:\n",
    "            spectral_centroid_mean = np.mean(spectral_centroid)\n",
    "        \n",
    "        # Calculate zero-crossing rate\n",
    "        zero_crossing_rate = librosa.feature.zero_crossing_rate(y)\n",
    "        if len(zero_crossing_rate) == 0:\n",
    "            zero_crossing_rate_mean = 0\n",
    "        else:\n",
    "            zero_crossing_rate_mean = np.mean(zero_crossing_rate)\n",
    "        \n",
    "        # Combine all features into a single feature vector\n",
    "        combined_features = np.concatenate([np.mean(mfcc, axis=1), [spectral_centroid_mean], [zero_crossing_rate_mean]])\n",
    "        features.append(combined_features)\n",
    "    return features\n",
    "\n",
    "# Example usage\n",
    "audio_features = extract_features(audio_data)\n",
    "print(\"Number of audio files processed:\", len(audio_features))\n",
    "print(\"Shape of extracted features for each audio file:\", audio_features[0].shape)\n"
   ]
  },
  {
   "cell_type": "code",
   "execution_count": 5,
   "metadata": {},
   "outputs": [],
   "source": [
    "import numpy as np\n",
    "from sklearn.preprocessing import StandardScaler\n",
    "from sklearn.decomposition import PCA\n",
    "def normalize_features(features, n_components=None):\n",
    "    # Convert list to numpy array if necessary\n",
    "    if isinstance(features, list):\n",
    "        features = np.array(features)\n",
    "    \n",
    "    # Standardize features\n",
    "    scaler = StandardScaler()\n",
    "    standardized_features = scaler.fit_transform(features)\n",
    "    \n",
    "    # Perform PCA for dimensionality reduction\n",
    "    pca = PCA(n_components=min(n_components, features.shape[1]) if n_components is not None else None)\n",
    "    reduced_features = pca.fit_transform(standardized_features)\n",
    "    \n",
    "    return reduced_features\n"
   ]
  },
  {
   "cell_type": "code",
   "execution_count": 6,
   "metadata": {},
   "outputs": [
    {
     "name": "stdout",
     "output_type": "stream",
     "text": [
      "Shape of reduced features: (145, 15)\n"
     ]
    }
   ],
   "source": [
    "# Example usage with PCA for dimensionality reduction\n",
    "reduced_features = normalize_features(audio_features, n_components=50)\n",
    "print(\"Shape of reduced features:\", reduced_features.shape)\n"
   ]
  },
  {
   "cell_type": "code",
   "execution_count": null,
   "metadata": {},
   "outputs": [],
   "source": []
  },
  {
   "cell_type": "code",
   "execution_count": null,
   "metadata": {},
   "outputs": [],
   "source": []
  }
 ],
 "metadata": {
  "kernelspec": {
   "display_name": "Python 3",
   "language": "python",
   "name": "python3"
  },
  "language_info": {
   "codemirror_mode": {
    "name": "ipython",
    "version": 3
   },
   "file_extension": ".py",
   "mimetype": "text/x-python",
   "name": "python",
   "nbconvert_exporter": "python",
   "pygments_lexer": "ipython3",
   "version": "3.10.12"
  }
 },
 "nbformat": 4,
 "nbformat_minor": 2
}
